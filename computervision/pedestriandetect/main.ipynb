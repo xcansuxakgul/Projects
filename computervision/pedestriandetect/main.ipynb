{
 "cells": [
  {
   "cell_type": "code",
   "execution_count": 1,
   "metadata": {},
   "outputs": [],
   "source": [
    "import cv2\n",
    "import numpy as np\n",
    "from imutils.object_detection import non_max_suppression"
   ]
  },
  {
   "cell_type": "code",
   "execution_count": 2,
   "metadata": {},
   "outputs": [],
   "source": [
    "\n",
    "filename = 'pedestrian.mp4'\n",
    "file_size = (1920, 1080)\n",
    "scale_ratio = 0.5\n",
    "\n",
    "output_filename = 'pedestrians.mp4'\n",
    "output_frames_per_second = 20.0"
   ]
  },
  {
   "cell_type": "code",
   "execution_count": 3,
   "metadata": {},
   "outputs": [],
   "source": [
    "hog = cv2.HOGDescriptor()\n",
    "hog.setSVMDetector(cv2.HOGDescriptor_getDefaultPeopleDetector())\n",
    "\n",
    "cap = cv2.VideoCapture(filename)\n",
    "\n",
    "fourcc = cv2.VideoWriter_fourcc(*'mp4v')\n",
    "result = cv2.VideoWriter(output_filename,fourcc,output_frames_per_second,file_size)"
   ]
  },
  {
   "cell_type": "code",
   "execution_count": 4,
   "metadata": {},
   "outputs": [],
   "source": [
    "while cap.isOpened():\n",
    "\n",
    "    success, frame = cap.read()\n",
    "    if success:\n",
    "        width = int(frame.shape[1] * scale_ratio)\n",
    "        height = int(frame.shape[0] * scale_ratio)\n",
    "        frame = cv2.resize(frame, (width, height))\n",
    "\n",
    "        orig_frame = frame.copy()\n",
    "\n",
    "        (bounding_boxes, weights) = hog.detectMultiScale(frame, winStride=(16, 16),padding=(4, 4),scale=1.05)\n",
    "\n",
    "        for (x, y, w, h) in bounding_boxes:\n",
    "            cv2.rectangle(orig_frame,(x, y),(x + w, y + h),(0, 0, 255), 2)\n",
    "\n",
    "        bounding_boxes = np.array([[x, y, x + w, y + h] for (x, y, w, h) in bounding_boxes])\n",
    "\n",
    "        selection = non_max_suppression(bounding_boxes,probs=None,overlapThresh=0.45)\n",
    "\n",
    "        for (x1, y1, x2, y2) in selection:\n",
    "            cv2.rectangle(frame, (x1, y1), (x2, y2),(0, 255, 0),4)\n",
    "\n",
    "        result.write(frame)\n",
    "\n",
    "        cv2.imshow(\"Frame\", frame)\n",
    "\n",
    "        #if press q key, video ends. q == quit\n",
    "        if cv2.waitKey(2) & 0xFF == ord('q'):\n",
    "            break\n",
    "\n",
    "\n",
    "    else:\n",
    "        break\n"
   ]
  },
  {
   "cell_type": "code",
   "execution_count": null,
   "metadata": {},
   "outputs": [],
   "source": [
    "cap.release()\n",
    "result.release()\n",
    "cv2.destroyAllWindows()"
   ]
  },
  {
   "cell_type": "code",
   "execution_count": null,
   "metadata": {},
   "outputs": [],
   "source": []
  }
 ],
 "metadata": {
  "interpreter": {
   "hash": "26de051ba29f2982a8de78e945f0abaf191376122a1563185a90213a26c5da77"
  },
  "kernelspec": {
   "display_name": "Python 3.10.2 64-bit",
   "language": "python",
   "name": "python3"
  },
  "language_info": {
   "codemirror_mode": {
    "name": "ipython",
    "version": 3
   },
   "file_extension": ".py",
   "mimetype": "text/x-python",
   "name": "python",
   "nbconvert_exporter": "python",
   "pygments_lexer": "ipython3",
   "version": "3.10.2"
  },
  "orig_nbformat": 4
 },
 "nbformat": 4,
 "nbformat_minor": 2
}
